{
 "cells": [
  {
   "cell_type": "code",
   "execution_count": 1,
   "id": "6cd80e82-5e12-47e9-ba50-e4eb1d8a1043",
   "metadata": {},
   "outputs": [],
   "source": [
    "import netCDF4 as nc\n",
    "import numpy as np"
   ]
  },
  {
   "cell_type": "code",
   "execution_count": 2,
   "id": "a33df412-a107-499b-aa76-581530af6b3e",
   "metadata": {},
   "outputs": [],
   "source": [
    "dataset_path = \"../UFZ_RemoteSensing/HOLAPS-LE-JJA_anomaly-d-2001-2005.nc\"\n",
    "\n",
    "long_range = [100,200]\n",
    "lat_range = [50,70]\n",
    "time_range = [0,50]"
   ]
  },
  {
   "cell_type": "markdown",
   "id": "ab000a57-6917-4944-92f4-d9ba5612fe37",
   "metadata": {},
   "source": [
    "### Get input\n",
    "Notice the flipped order of long and lat"
   ]
  },
  {
   "cell_type": "code",
   "execution_count": 3,
   "id": "6dbeb187-ef98-4fec-8844-2d470ffc6bbe",
   "metadata": {},
   "outputs": [
    {
     "name": "stdout",
     "output_type": "stream",
     "text": [
      "['time', 'longitude', 'latitude', 'surface_upward_latent_heat_flux']\n"
     ]
    }
   ],
   "source": [
    "ds = nc.Dataset(dataset_path)\n",
    "\n",
    "variable_names = list(ds.variables.keys())\n",
    "print(variable_names)"
   ]
  },
  {
   "cell_type": "code",
   "execution_count": 6,
   "id": "116d87ae-6675-45af-b8ad-87a0c8bfc931",
   "metadata": {},
   "outputs": [
    {
     "name": "stdout",
     "output_type": "stream",
     "text": [
      "time (460,)\n",
      "longitude (1233,)\n",
      "latitude (601,)\n",
      "surface_upward_latent_heat_flux (460, 601, 1233)\n"
     ]
    }
   ],
   "source": [
    "for n in variable_names:\n",
    "    print(n, ds[n].shape)"
   ]
  },
  {
   "cell_type": "markdown",
   "id": "7548221e-01f4-47eb-a00b-f5b6a940a350",
   "metadata": {},
   "source": [
    "### Create output"
   ]
  },
  {
   "cell_type": "code",
   "execution_count": 149,
   "id": "20ec07ca-0fa5-4518-b1b3-1bfec000daf0",
   "metadata": {},
   "outputs": [
    {
     "name": "stdout",
     "output_type": "stream",
     "text": [
      "('time', <class 'netCDF4._netCDF4.Dimension'>: name = 'time', size = 50)\n",
      "('longitude', <class 'netCDF4._netCDF4.Dimension'>: name = 'longitude', size = 100)\n",
      "('latitude', <class 'netCDF4._netCDF4.Dimension'>: name = 'latitude', size = 20)\n"
     ]
    }
   ],
   "source": [
    "## create output nc file:\n",
    "ncfile = nc.Dataset('tiny.nc',mode='w',format='NETCDF4_CLASSIC') \n",
    "\n",
    "time_dim = ncfile.createDimension(variable_names[0], time_range[1]-time_range[0]) \n",
    "#time_dim = ncfile.createDimension('time', None) # unlimited axis (can be appended to).\n",
    "lon_dim = ncfile.createDimension(variable_names[1], long_range[1]-long_range[0])    # longitude axis\n",
    "lat_dim = ncfile.createDimension(variable_names[2], lat_range[1]-lat_range[0])     # latitude axis\n",
    "\n",
    "for dim in ncfile.dimensions.items():\n",
    "    print(dim)"
   ]
  },
  {
   "cell_type": "code",
   "execution_count": 150,
   "id": "a7ccd62a-43fe-4843-8ce7-91cf92dd6ef3",
   "metadata": {},
   "outputs": [
    {
     "name": "stdout",
     "output_type": "stream",
     "text": [
      "test\n"
     ]
    }
   ],
   "source": [
    "ncfile.title='test'\n",
    "print(ncfile.title)"
   ]
  },
  {
   "cell_type": "code",
   "execution_count": 151,
   "id": "6bc935d9-68ea-4a69-b2d2-6bc9acde1c98",
   "metadata": {},
   "outputs": [],
   "source": [
    "\n",
    "# Define two variables with the same names as dimensions,\n",
    "# a conventional way to define \"coordinate variables\".\n",
    "time = ncfile.createVariable(variable_names[0], np.float64, (variable_names[0],))\n",
    "time.units = 'day as %Y%m%d.%f'\n",
    "time.long_name = variable_names[0]\n",
    "\n",
    "lon = ncfile.createVariable(variable_names[1], np.float32, (variable_names[1],))\n",
    "lon.units = 'degrees_east'\n",
    "lon.long_name = variable_names[1]\n",
    "\n",
    "lat = ncfile.createVariable(variable_names[2], np.float32, (variable_names[2],))\n",
    "lat.units = 'degrees_north'\n",
    "lat.long_name = variable_names[2]\n",
    "\n",
    "# Define a 3D variable to hold the data\n",
    "heat = ncfile.createVariable(variable_names[3],np.float64,\n",
    "                             (variable_names[0],variable_names[2],variable_names[1])) \n",
    "# note: unlimited dimension is leftmost\n",
    "heat.units = 'W m-2'\n",
    "heat.standard_name = 'heat' # this is a CF standard name"
   ]
  },
  {
   "cell_type": "code",
   "execution_count": 152,
   "id": "3be24b24-6936-4a91-b0db-067250c2c22c",
   "metadata": {},
   "outputs": [],
   "source": [
    "# fill in data\n",
    "time[:] = ds[variable_names[0]][time_range[0]:time_range[1]]\n",
    "lon[:] = ds[variable_names[1]][long_range[0]:long_range[1]]\n",
    "lat[:] = ds[variable_names[2]][lat_range[0]:lat_range[1]]\n",
    "heat[:] = ds[variable_names[3]][time_range[0]:time_range[1], lat_range[0]:lat_range[1], long_range[0]:long_range[1]]\n",
    "\n",
    "heat[3] = heat[0,0,0]\n"
   ]
  },
  {
   "cell_type": "code",
   "execution_count": 153,
   "id": "7daea79a-5d87-45d8-8994-60b653de5310",
   "metadata": {},
   "outputs": [
    {
     "name": "stdout",
     "output_type": "stream",
     "text": [
      "Dataset is closed!\n"
     ]
    }
   ],
   "source": [
    "ncfile.close(); print('Dataset is closed!')"
   ]
  },
  {
   "cell_type": "code",
   "execution_count": null,
   "id": "38c04c07-e68a-42af-811a-5c81b25d2108",
   "metadata": {},
   "outputs": [],
   "source": []
  }
 ],
 "metadata": {
  "kernelspec": {
   "display_name": "Python 3 (ipykernel)",
   "language": "python",
   "name": "python3"
  },
  "language_info": {
   "codemirror_mode": {
    "name": "ipython",
    "version": 3
   },
   "file_extension": ".py",
   "mimetype": "text/x-python",
   "name": "python",
   "nbconvert_exporter": "python",
   "pygments_lexer": "ipython3",
   "version": "3.11.0"
  }
 },
 "nbformat": 4,
 "nbformat_minor": 5
}
