{
 "cells": [
  {
   "cell_type": "markdown",
   "id": "101e6d1f-8d3c-468a-983a-47d470919751",
   "metadata": {},
   "source": [
    "This is just a test to see if i can import the png as a mesh somehow in blender.\n",
    "I should not assume that those are my values in any dataset. Just for the toy."
   ]
  },
  {
   "cell_type": "code",
   "execution_count": 9,
   "id": "55ad7593-0391-43ea-89bf-3160ad116e27",
   "metadata": {},
   "outputs": [],
   "source": [
    "import numpy as np\n",
    "from PIL import Image"
   ]
  },
  {
   "cell_type": "code",
   "execution_count": 10,
   "id": "12467d85-fa95-43bd-8e26-7fbcf8c8773e",
   "metadata": {},
   "outputs": [],
   "source": [
    "stack = np.load('sliced_heat_flux_array_as_toy.npy')\n",
    "\n",
    "im = stack[0]"
   ]
  },
  {
   "cell_type": "code",
   "execution_count": 11,
   "id": "bbd66aa1-02df-4c08-bc07-f5862e8eaa24",
   "metadata": {},
   "outputs": [
    {
     "data": {
      "text/plain": [
       "array([-9.99999900e+06, -1.11634590e+02, -1.07136383e+02, ...,\n",
       "        1.14487427e+02,  1.14667374e+02,  1.19272026e+02], dtype=float32)"
      ]
     },
     "execution_count": 11,
     "metadata": {},
     "output_type": "execute_result"
    }
   ],
   "source": [
    "np.unique(im)"
   ]
  },
  {
   "cell_type": "code",
   "execution_count": 12,
   "id": "270739b0-8467-48a4-834e-af2b107ba4a1",
   "metadata": {},
   "outputs": [
    {
     "data": {
      "text/plain": [
       "array([  0.       ,   1.3654099,   5.863617 , ..., 227.48743  ,\n",
       "       227.66737  , 232.27203  ], dtype=float32)"
      ]
     },
     "execution_count": 12,
     "metadata": {},
     "output_type": "execute_result"
    }
   ],
   "source": [
    "im = np.where(im!=np.min(im), im+113, 0)\n",
    "\n",
    "np.unique(im)"
   ]
  },
  {
   "cell_type": "code",
   "execution_count": 13,
   "id": "cfec9aa5-3460-4cc1-90c2-a7ec3c1b7a87",
   "metadata": {},
   "outputs": [
    {
     "data": {
      "text/plain": [
       "array([  0,   1,   5,  13,  14,  16,  17,  19,  20,  21,  22,  23,  25,\n",
       "        26,  27,  28,  29,  30,  31,  32,  33,  34,  35,  36,  37,  38,\n",
       "        39,  40,  41,  42,  43,  44,  45,  46,  47,  48,  49,  50,  51,\n",
       "        52,  53,  54,  55,  56,  57,  58,  59,  60,  61,  62,  63,  64,\n",
       "        65,  66,  67,  68,  69,  70,  71,  72,  73,  74,  75,  76,  77,\n",
       "        78,  79,  80,  81,  82,  83,  84,  85,  86,  87,  88,  89,  90,\n",
       "        91,  92,  93,  94,  95,  96,  97,  98,  99, 100, 101, 102, 103,\n",
       "       104, 105, 106, 107, 108, 109, 110, 111, 112, 113, 114, 115, 116,\n",
       "       117, 118, 119, 120, 121, 122, 123, 124, 125, 126, 127, 128, 129,\n",
       "       130, 131, 132, 133, 134, 135, 136, 137, 138, 139, 140, 141, 142,\n",
       "       143, 144, 145, 146, 147, 148, 149, 150, 151, 152, 153, 154, 155,\n",
       "       156, 157, 158, 159, 160, 161, 162, 163, 164, 165, 166, 167, 168,\n",
       "       169, 170, 171, 172, 173, 174, 175, 176, 177, 178, 179, 180, 181,\n",
       "       182, 183, 184, 185, 186, 187, 188, 189, 190, 191, 192, 193, 194,\n",
       "       195, 196, 197, 198, 199, 200, 201, 202, 203, 204, 205, 206, 207,\n",
       "       208, 209, 210, 211, 212, 213, 214, 215, 216, 217, 218, 219, 220,\n",
       "       221, 222, 223, 224, 225, 226, 227, 232], dtype=uint8)"
      ]
     },
     "execution_count": 13,
     "metadata": {},
     "output_type": "execute_result"
    }
   ],
   "source": [
    "im = im.astype(np.uint8)\n",
    "\n",
    "np.unique(im)"
   ]
  },
  {
   "cell_type": "code",
   "execution_count": 42,
   "id": "c8ed1fbf-3af2-4ddc-9172-d71a8c13517d",
   "metadata": {},
   "outputs": [],
   "source": [
    "im_as_rgba = np.stack((im,im,im, np.where(im==0,0,255).astype(np.uint8)), axis=2)"
   ]
  },
  {
   "cell_type": "code",
   "execution_count": 43,
   "id": "40f0d537-b1c2-4cea-843e-8c29f99440ac",
   "metadata": {},
   "outputs": [],
   "source": [
    "im_pil = Image.fromarray(im_as_rgba)"
   ]
  },
  {
   "cell_type": "code",
   "execution_count": 44,
   "id": "3325df8a-8718-4638-80ac-f64b16425163",
   "metadata": {},
   "outputs": [],
   "source": [
    "im_pil.save('test.png')"
   ]
  },
  {
   "cell_type": "code",
   "execution_count": null,
   "id": "9db772bf-b330-4aa2-b643-04239e4a800e",
   "metadata": {},
   "outputs": [],
   "source": []
  }
 ],
 "metadata": {
  "kernelspec": {
   "display_name": "Python 3 (ipykernel)",
   "language": "python",
   "name": "python3"
  },
  "language_info": {
   "codemirror_mode": {
    "name": "ipython",
    "version": 3
   },
   "file_extension": ".py",
   "mimetype": "text/x-python",
   "name": "python",
   "nbconvert_exporter": "python",
   "pygments_lexer": "ipython3",
   "version": "3.10.8"
  }
 },
 "nbformat": 4,
 "nbformat_minor": 5
}
