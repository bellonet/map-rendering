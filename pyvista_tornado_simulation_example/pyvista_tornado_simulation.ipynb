{
 "cells": [
  {
   "cell_type": "markdown",
   "id": "a332c5fa-d9f2-4224-8b43-135b83494029",
   "metadata": {},
   "source": [
    "Running this example to see what I can use from it:  \n",
    "https://github.com/keltonhalbert/pyvista-tornado-demo/blob/cd5f18722b762c472fb9205dc5a10a879b086915/pyvista-tornado-example.ipynb\n",
    "\n",
    "BUG IN THIS NOTEBOOK!!!  \n",
    "The viewer works only once! so I commented already run plots."
   ]
  },
  {
   "cell_type": "markdown",
   "id": "9da51d7c-7230-4056-8511-d0b67dd87291",
   "metadata": {},
   "source": [
    "## Use PyVista to Visualize a Tornado Simulation"
   ]
  },
  {
   "cell_type": "code",
   "execution_count": 1,
   "id": "60e3a78a-4b88-4559-8277-2bdd6c72152e",
   "metadata": {},
   "outputs": [],
   "source": [
    "import pyvista as pv\n",
    "import numpy as np\n",
    "import netCDF4 as nc\n",
    "import vtk, glob\n",
    "from tqdm import tqdm\n",
    "from colorcet import *\n",
    "import gc \n",
    "\n",
    "## This is required when using the volume render functionality.\n",
    "## Not necessary for 3D meshes or surfaces\n",
    "## PRODUCES ERROR!!!!!!\n",
    "####pv.global_theme[\"use_panel\"] = False\n",
    "\n"
   ]
  },
  {
   "cell_type": "code",
   "execution_count": 2,
   "id": "29f36a34-932d-4c98-9376-7df7ee17ffa2",
   "metadata": {},
   "outputs": [
    {
     "data": {
      "text/html": [
       "<table style='border: 1.5px solid;'>\n",
       "  <tr>\n",
       "     <td style='text-align: center; font-weight: bold; font-size: 1.2em; border: 1px solid;' colspan='6'>Thu Dec 22 18:27:37 2022 CET</td>\n",
       "  </tr>\n",
       "  <tr>\n",
       "    <td style='text-align: right; border: 1px solid;'>OS</td>\n",
       "    <td style='text-align: left; border: 1px solid;'>Linux</td>\n",
       "    <td style='text-align: right; border: 1px solid;'>CPU(s)</td>\n",
       "    <td style='text-align: left; border: 1px solid;'>4</td>\n",
       "    <td style='text-align: right; border: 1px solid;'>Machine</td>\n",
       "    <td style='text-align: left; border: 1px solid;'>x86_64</td>\n",
       "  </tr>\n",
       "  <tr>\n",
       "    <td style='text-align: right; border: 1px solid;'>Architecture</td>\n",
       "    <td style='text-align: left; border: 1px solid;'>64bit</td>\n",
       "    <td style='text-align: right; border: 1px solid;'>RAM</td>\n",
       "    <td style='text-align: left; border: 1px solid;'>15.5 GiB</td>\n",
       "    <td style='text-align: right; border: 1px solid;'>Environment</td>\n",
       "    <td style='text-align: left; border: 1px solid;'>Jupyter</td>\n",
       "  </tr>\n",
       "  <tr>\n",
       "    <td style='text-align: right; border: 1px solid;'>File system</td>\n",
       "    <td style='text-align: left; border: 1px solid;'>ext4</td>\n",
       "    <td style='text-align: right; border: 1px solid;'>GPU Vendor</td>\n",
       "    <td style='text-align: left; border: 1px solid;'>Intel</td>\n",
       "    <td style='text-align: right; border: 1px solid;'>GPU Renderer</td>\n",
       "    <td style='text-align: left; border: 1px solid;'>Mesa Intel(R) HD Graphics 620 (KBL GT2)</td>\n",
       "  </tr>\n",
       "  <tr>\n",
       "    <td style='text-align: right; border: 1px solid;'>GPU Version</td>\n",
       "    <td style='text-align: left; border: 1px solid;'>4.6 (Core Profile) Mesa 22.0.5</td>\n",
       "  </tr>\n",
       "  <tr>\n",
       "     <td style='text-align: center; border: 1px solid;' colspan='6'>Python 3.11.0 | packaged by conda-forge | (main, Oct 25 2022, 06:24:40) [GCC 10.4.0]</td>\n",
       "  </tr>\n",
       "  <tr>\n",
       "    <td style='text-align: right; border: 1px solid;'>netCDF4</td>\n",
       "    <td style='text-align: left; border: 1px solid;'>1.6.2</td>\n",
       "    <td style='text-align: right; border: 1px solid;'>tqdm</td>\n",
       "    <td style='text-align: left; border: 1px solid;'>4.64.1</td>\n",
       "    <td style='text-align: right; border: 1px solid;'>pyvista</td>\n",
       "    <td style='text-align: left; border: 1px solid;'>0.37.0</td>\n",
       "  </tr>\n",
       "  <tr>\n",
       "    <td style='text-align: right; border: 1px solid;'>vtk</td>\n",
       "    <td style='text-align: left; border: 1px solid;'>9.2.2</td>\n",
       "    <td style='text-align: right; border: 1px solid;'>numpy</td>\n",
       "    <td style='text-align: left; border: 1px solid;'>1.24.0</td>\n",
       "    <td style='text-align: right; border: 1px solid;'>imageio</td>\n",
       "    <td style='text-align: left; border: 1px solid;'>2.23.0</td>\n",
       "  </tr>\n",
       "  <tr>\n",
       "    <td style='text-align: right; border: 1px solid;'>scooby</td>\n",
       "    <td style='text-align: left; border: 1px solid;'>0.7.0</td>\n",
       "    <td style='text-align: right; border: 1px solid;'>pooch</td>\n",
       "    <td style='text-align: left; border: 1px solid;'>v1.6.0</td>\n",
       "    <td style='text-align: right; border: 1px solid;'>matplotlib</td>\n",
       "    <td style='text-align: left; border: 1px solid;'>3.6.2</td>\n",
       "  </tr>\n",
       "  <tr>\n",
       "    <td style='text-align: right; border: 1px solid;'>IPython</td>\n",
       "    <td style='text-align: left; border: 1px solid;'>8.7.0</td>\n",
       "    <td style='text-align: right; border: 1px solid;'>colorcet</td>\n",
       "    <td style='text-align: left; border: 1px solid;'>3.0.1</td>\n",
       "    <td style='text-align: right; border: 1px solid;'>cmocean</td>\n",
       "    <td style='text-align: left; border: 1px solid;'>2.0</td>\n",
       "  </tr>\n",
       "  <tr>\n",
       "    <td style='text-align: right; border: 1px solid;'>jupyterlab</td>\n",
       "    <td style='text-align: left; border: 1px solid;'>3.5.2</td>\n",
       "    <td style= border: 1px solid;'></td>\n",
       "    <td style= border: 1px solid;'></td>\n",
       "    <td style= border: 1px solid;'></td>\n",
       "    <td style= border: 1px solid;'></td>\n",
       "  </tr>\n",
       "</table>"
      ],
      "text/plain": [
       "\n",
       "--------------------------------------------------------------------------------\n",
       "  Date: Thu Dec 22 18:27:37 2022 CET\n",
       "\n",
       "                OS : Linux\n",
       "            CPU(s) : 4\n",
       "           Machine : x86_64\n",
       "      Architecture : 64bit\n",
       "               RAM : 15.5 GiB\n",
       "       Environment : Jupyter\n",
       "       File system : ext4\n",
       "        GPU Vendor : Intel\n",
       "      GPU Renderer : Mesa Intel(R) HD Graphics 620 (KBL GT2)\n",
       "       GPU Version : 4.6 (Core Profile) Mesa 22.0.5\n",
       "\n",
       "  Python 3.11.0 | packaged by conda-forge | (main, Oct 25 2022, 06:24:40) [GCC\n",
       "  10.4.0]\n",
       "\n",
       "           netCDF4 : 1.6.2\n",
       "              tqdm : 4.64.1\n",
       "           pyvista : 0.37.0\n",
       "               vtk : 9.2.2\n",
       "             numpy : 1.24.0\n",
       "           imageio : 2.23.0\n",
       "            scooby : 0.7.0\n",
       "             pooch : v1.6.0\n",
       "        matplotlib : 3.6.2\n",
       "           IPython : 8.7.0\n",
       "          colorcet : 3.0.1\n",
       "           cmocean : 2.0\n",
       "        jupyterlab : 3.5.2\n",
       "--------------------------------------------------------------------------------"
      ]
     },
     "execution_count": 2,
     "metadata": {},
     "output_type": "execute_result"
    }
   ],
   "source": [
    "#Environment Report for Reproducibilty\n",
    "\n",
    "## Just some useful debugging info if you have any issues\n",
    "pv.Report([\"netCDF4\", \"tqdm\"])"
   ]
  },
  {
   "cell_type": "code",
   "execution_count": 3,
   "id": "2969dfba-4269-4375-81d5-ef5fc930efd4",
   "metadata": {},
   "outputs": [
    {
     "name": "stdout",
     "output_type": "stream",
     "text": [
      "dict_keys(['xpos', 'ypos', 'zpos', 'u', 'v', 'w', 'uturb', 'vturb', 'wturb', 'udiff', 'vdiff', 'wdiff', 'khh', 'xvort', 'yvort', 'zvort', 'xvorttilt', 'yvorttilt', 'zvorttilt', 'xvortstretch', 'yvortstretch', 'zvortstretch', 'xvortsolenoid', 'yvortsolenoid', 'zvortsolenoid', 'xvortbaro', 'yvortbaro', 'xvortturb', 'yvortturb', 'zvortturb', 'xvortdiff', 'yvortdiff', 'zvortdiff', 'prespert', 'thrhopert'])\n",
      "\n",
      "dict_keys(['xh', 'yh', 'zh', 'xf', 'yf', 'zf', 'time', 'X0', 'Y0', 'X1', 'Y1', 'Z0', 'Z1', 'thrhopert', 'vortmag', 'winterp', 'u0', 'v0', 'th0', 'pres0', 'pi0', 'qv0'])\n",
      "\n"
     ]
    }
   ],
   "source": [
    "\n",
    "\n",
    "## Read in the NetCDF with the parcels\n",
    "pc_ds = nc.Dataset(\"30m_tkeparcels_small.nc\")\n",
    "print(pc_ds.variables.keys())\n",
    "print()\n",
    "\n",
    "## Read in the NetCDF with the volumetric model data\n",
    "model_ds = nc.Dataset(\"30m_tke_small.04200.166600.nc\" )\n",
    "print(model_ds.variables.keys())\n",
    "print()\n",
    "\n"
   ]
  },
  {
   "cell_type": "markdown",
   "id": "88400464-d5bf-4d17-b70d-0b7cf61453e8",
   "metadata": {},
   "source": [
    "### Handle the point cloud"
   ]
  },
  {
   "cell_type": "markdown",
   "id": "ab37b2ae-b66d-4a13-b5d1-3d2bf0ee29cf",
   "metadata": {},
   "source": [
    "This is pyvista.PolyData (vtkPolyData). This is going to read in our position arrays for the parcels, and the array we want the lagrangian parcels to be colored by. In this case, the coloring is from zvortstretch and the position arrays are xpos, ypos, and zpos."
   ]
  },
  {
   "cell_type": "code",
   "execution_count": 4,
   "id": "b85abf88-2297-40e0-aff4-24cd5071a39b",
   "metadata": {},
   "outputs": [
    {
     "data": {
      "text/plain": [
       "(3000, 901)"
      ]
     },
     "execution_count": 4,
     "metadata": {},
     "output_type": "execute_result"
    }
   ],
   "source": [
    "## Spatial reference of the Lagrangian point cloud\n",
    "poskeys = [\"xpos\", \"ypos\", \"zpos\"]\n",
    "xt = pc_ds[poskeys[0]]\n",
    "yt = pc_ds[poskeys[1]]\n",
    "zt = pc_ds[poskeys[2]]\n",
    "\n",
    "## Array to color the Lagrangian point cloud by\n",
    "pc_array = \"zvortstretch\"\n",
    "var = pc_ds.variables[pc_array]\n",
    "## Get the min/max of the color array\n",
    "clim = [np.min(var), np.max(var)]\n",
    "\n",
    "npar, nt = xt.shape\n",
    "npar, nt"
   ]
  },
  {
   "cell_type": "markdown",
   "id": "6c0cd388-652f-46b5-80f0-4692efbacd44",
   "metadata": {},
   "source": [
    "### Time-varying Lagrangian particle trajectories\n",
    "\n",
    "This handles taking the Lagrangian particle trajectory position arrays and making them into a data structure that PyVista can readily render as a point cloud. Additionally, we define a function that tells PyVista how the data updates in time.\n"
   ]
  },
  {
   "cell_type": "code",
   "execution_count": 5,
   "id": "c2dbe7ec-ac8e-4270-b43c-be14067d46bb",
   "metadata": {},
   "outputs": [],
   "source": [
    "## This function defines how our point cloud caries in time\n",
    "def update_pc(t):\n",
    "    \"\"\"Update the Lagrangian particle trajectory point cloud to a new time step.\"\"\"\n",
    "    # updates the point cloud inplace\n",
    "    pc.points[:] = np.c_[xt[:,t], yt[:,t], zt[:,t]]\n",
    "    pc[pc_array][:] = var[:,t]\n",
    "    return\n",
    "\n",
    "## Inititalize the point cloud\n",
    "pc = pv.PolyData(np.c_[xt[:,0], yt[:,0], zt[:,0]])\n",
    "pc[pc_array] = var[:,0]\n"
   ]
  },
  {
   "cell_type": "code",
   "execution_count": 6,
   "id": "e8adea82-928d-4752-887e-302cc8d4097b",
   "metadata": {},
   "outputs": [
    {
     "name": "stderr",
     "output_type": "stream",
     "text": [
      "100%|████████████████████████████████████████████████████████████████████████████████████████████████████████████████████████| 3000/3000 [00:00<00:00, 3797.72it/s]\n"
     ]
    }
   ],
   "source": [
    "## Creates streamlines from the point cloud\n",
    "nodes = np.dstack((xt, yt, zt))\n",
    "streams = pv.MultiBlock()\n",
    "for index in tqdm(range(0, npar)):\n",
    "    tracer = pv.lines_from_points(nodes[index,:,:])\n",
    "    streams.append(tracer)\n",
    "    \n",
    "streams = streams.combine()\n",
    "streams[pc_array] = pc_ds[pc_array][:].ravel()"
   ]
  },
  {
   "cell_type": "markdown",
   "id": "ca1c0320-e5da-4b57-8029-6da978ccc842",
   "metadata": {},
   "source": [
    "### Handle the model grid\n",
    "\n",
    "| The netCDF file has a meshgrid saved (pyvista.StructuredGrid/vtkStructuredGrid) but it is way more efficeint to use image data (pyvista.UniformGrid/vtkImageData). Below, I have it set to create image data, but we can easily get away with this because our data is on a rectillinear mesh with isotropic grid spacing. Also this is mainly just to show you that there are several ways to make a mesh from these data."
   ]
  },
  {
   "cell_type": "markdown",
   "id": "22ba8234-05d1-421b-8069-b7f3939a4f06",
   "metadata": {},
   "source": [
    "### WARNING: IF YOU ARE NOT USING A REGULAR MESH WITH ISOTROPIC SPACING, BE CAREFUL AND USE THE SLOWER MESH OR INTERPOLATE TO A REGULAR GRID."
   ]
  },
  {
   "cell_type": "markdown",
   "id": "1872a4b6-a717-4252-b59c-ae6e12f802f4",
   "metadata": {},
   "source": [
    "It's also worth noting that this grid is using the scalar mesh, and none of the staggered vector meshes (ie zf, yf, xf). If you are plotting a vector field, either a) interpolate to the scalar mesh or b) create multiple grids, which should be allowed."
   ]
  },
  {
   "cell_type": "code",
   "execution_count": 7,
   "id": "3db5b87e-99da-4b0b-95e0-b2169d8fecb1",
   "metadata": {},
   "outputs": [
    {
     "name": "stdout",
     "output_type": "stream",
     "text": [
      "[-7103.1533, -100.0, -3285.0127, 900.0, 30.0, 4032.569]\n"
     ]
    }
   ],
   "source": [
    "## Get bounds of the entire simulation\n",
    "bounds = [np.min(xt), np.max(xt),\n",
    "          np.min(yt), np.max(yt),\n",
    "          np.min(zt), np.max(zt)]\n",
    "print(bounds)\n",
    "\n",
    "\n",
    "## Fetch data for the static model\n",
    "## - typically better to use image data if you can\n",
    "## - pyvista.UniformGrid wraps vtk.vtkImageData\n",
    "if False:\n",
    "    ## Create a structured grid - safer\n",
    "    x = model_ds[\"xh\"][:] * 1000\n",
    "    y = model_ds[\"yh\"][:] * 1000\n",
    "    z = model_ds[\"zh\"][:] * 1000\n",
    "    xx, yy, zz = np.meshgrid(x, y, z, indexing='ij')\n",
    "    grid = pv.StructuredGrid(xx, yy, zz)\n",
    "else:\n",
    "    ## Create image data - better optimized for viz\n",
    "    \n",
    "    ## grid units are in km, convert to m\n",
    "    ## to work with trajectories\n",
    "    x = model_ds[\"xh\"][:] * 1000\n",
    "    y = model_ds[\"yh\"][:] * 1000\n",
    "    z = model_ds[\"zh\"][:] * 1000\n",
    "    \n",
    "    \n",
    "    ## Get the grid spacing\n",
    "    xs = np.around(np.unique(np.diff(x)).mean(), decimals=3)\n",
    "    ys = np.around(np.unique(np.diff(y)).mean(), decimals=3)\n",
    "    zs = np.around(np.unique(np.diff(z)).mean(), decimals=3)\n",
    "    ## If you have only 1 vertical level this freaks out... this\n",
    "    ## avoids said freakout. \n",
    "    if (np.isnan(zs)): zs = xs\n",
    "    grid = pv.UniformGrid()\n",
    "    grid.spacing = xs, ys, zs\n",
    "    grid.origin = np.min(x), np.min(y), np.min(z)\n",
    "    grid.dimensions = len(x), len(y), len(z)"
   ]
  },
  {
   "cell_type": "code",
   "execution_count": 8,
   "id": "2894b68a-9dd9-4b86-9125-e7e133fdbee6",
   "metadata": {},
   "outputs": [],
   "source": [
    "## Arrays used for plotting\n",
    "grid[\"winterp\"] = model_ds[\"winterp\"][:].ravel()\n",
    "grid[\"thrhopert\"] = model_ds[\"thrhopert\"][:].ravel()\n",
    "grid[\"vortmag\"] = model_ds[\"vortmag\"][:].ravel()"
   ]
  },
  {
   "cell_type": "markdown",
   "id": "ee6cbe15-d409-47de-bac7-daab484db31b",
   "metadata": {},
   "source": [
    "## Filter Datasets\n",
    "\n",
    "Apply a contour and a slice to the model\n"
   ]
  },
  {
   "cell_type": "code",
   "execution_count": 9,
   "id": "ca55908e-d9fe-486c-bdf6-ba9e2697d7b2",
   "metadata": {
    "tags": []
   },
   "outputs": [
    {
     "name": "stderr",
     "output_type": "stream",
     "text": [
      "/home/ella/miniconda3/envs/pyvista_NEW/lib/python3.11/site-packages/pyvista/jupyter/notebook.py:60: UserWarning: Failed to use notebook backend: \n",
      "\n",
      "Please install `ipyvtklink` to use this feature: https://github.com/Kitware/ipyvtklink\n",
      "\n",
      "Falling back to a static output.\n",
      "  warnings.warn(\n"
     ]
    },
    {
     "data": {
      "image/png": "[encoded data removed]",
      "text/plain": [
       "<PIL.Image.Image image mode=RGB size=1024x768>"
      ]
     },
     "metadata": {},
     "output_type": "display_data"
    }
   ],
   "source": [
    "## Define how the volumetric fields update in time. \n",
    "def update_sf(t):\n",
    "    model_ds = nc.Dataset(files[t])\n",
    "    grid[\"thrhopert\"] = model_ds[\"thrhopert\"][:].ravel()\n",
    "    grid[\"winterp\"] = model_ds[\"winterp\"][:].ravel()\n",
    "    grid[\"vortmag\"] = model_ds[\"vortmag\"][:].ravel()\n",
    "\n",
    "\n",
    "## Slice the model at the ground surface\n",
    "og = grid.center\n",
    "og[-1] = 30 ## first scalar grid point is at 30 meters\n",
    "\n",
    "## Plot a horizontal slice of the surface buoyancy perturbation field.\n",
    "surface = grid.slice(\"z\", origin=og)\n",
    "surface.plot(scalars=\"thrhopert\", cmap=\"diff\", clim=[-8,8])#, orig=og)\n",
    "\n",
    "## Contour the updraft speeds\n",
    "##  - this might take a sec\n",
    "isosurf = grid.contour([30, 40, 50], scalars=\"winterp\") ## 3 specific contour levels in m/s"
   ]
  },
  {
   "cell_type": "markdown",
   "id": "08684d24-425c-4a14-9d58-fc6d2d9b00dc",
   "metadata": {},
   "source": [
    "## Plotting"
   ]
  },
  {
   "cell_type": "markdown",
   "id": "a3d4d1ba-f137-482a-8ba2-5f3e59d7afc8",
   "metadata": {},
   "source": [
    "### Static scene 1\n",
    "Lots of contours all with opacity to mimic volume rendering"
   ]
  },
  {
   "cell_type": "code",
   "execution_count": 10,
   "id": "2fe339d0-2d4e-432d-8436-5cf8be31017c",
   "metadata": {},
   "outputs": [],
   "source": [
    "## Note the custom opacity ramp\n",
    "## - this is used for the streamlines to mask parts of the\n",
    "## line we don't care about\n",
    "ramp = [0.0,0.0,0.0, 0.0, 0.07, 0.5, 0.75, 1.]"
   ]
  },
  {
   "cell_type": "code",
   "execution_count": 11,
   "id": "2d1802db-a6fb-4d60-a721-fa6a3dd92512",
   "metadata": {},
   "outputs": [],
   "source": [
    "\n",
    "\n",
    "# ## Create the render engine. Here we can set the window size, multisampling,\n",
    "# ## and whether or not we're in a notebook. Setting notebook=True will display\n",
    "# ## the resulting image in the notebook and it will not be interactive. \n",
    "# ## Setting notebook=False will not display the image in the notebook, but\n",
    "# ## will open an interactive display.\n",
    "# p = pv.Plotter(notebook=False,\n",
    "#                window_size=[1920*2, 1080*2], \n",
    "#                multi_samples=16)\n",
    "\n",
    "# ## Temporary hack to enable depth peeling. This helps the isosurface rendering look much\n",
    "# ## better when stacked in front of other semitransparent isosurfaces. This will likely be\n",
    "# ## added as an option in PyVista soon, but in the meantime, can manually be set through\n",
    "# ## the plotter class.\n",
    "\n",
    "# # 1. Use a render window with alpha bits (as initial value is 0 (false)):\n",
    "# p.ren_win.SetAlphaBitPlanes(True)\n",
    "\n",
    "# # 2. Force to not pick a framebuffer with a multisample buffer\n",
    "# # (as initial value is 4):\n",
    "# p.ren_win.SetMultiSamples(0)\n",
    "\n",
    "# # 3. Choose to use depth peeling (if supported) (initial value is 0 (false)):\n",
    "# p.renderer.SetUseDepthPeeling(True)\n",
    "\n",
    "# # 4. Set depth peeling parameters\n",
    "# #  - Set the maximum number of rendering passes (initial value is 4):\n",
    "# p.renderer.SetMaximumNumberOfPeels(4)\n",
    "# #  - Set the occlusion ratio (initial value is 0.0, exact image):\n",
    "# p.renderer.SetOcclusionRatio(0.0)\n",
    "\n",
    "\n",
    "\n",
    "\n",
    "\n",
    "# ## Add our Lagrangian parcel streamlines to the render engine. \n",
    "# ## We specify the color range of zvortstretch with clim, and\n",
    "# ## use teh custom ramp as the opacity argument. This will make\n",
    "# ## streamlines with no vrtoex stretching transparent. \n",
    "# p.add_mesh(streams, clim=[-1e-3, 1e-3], \n",
    "#             opacity=ramp,\n",
    "#             cmap=\"CET_D1A\")\n",
    "\n",
    "# ### Didnt work\n",
    "# # ## Add the 3 updraft isosurfaces to the scene. \n",
    "# # p.add_mesh(isosurf, scalar=\"winterp\", cmap=\"bone\", opacity=0.5, clim=[30,50])\n",
    "# ## Add the 3 updraft isosurfaces to the scene. \n",
    "# p.add_mesh(isosurf, scalars=\"winterp\", cmap=\"bone\", opacity=0.5, clim=[30,50])\n",
    "\n",
    "# ## Add the buoyancy field underneath everything. \n",
    "# p.add_mesh(surface, scalars=\"thrhopert\", cmap=\"diff\", clim=[-8,8])\n",
    "\n",
    "# ## Set the camera position and orientation.\n",
    "# p.camera_position = [(4000., -11000., 5000.),\n",
    "#                      (-5000, -1000., 1000.),\n",
    "#                      (0, 0, 1)]\n",
    "# p.show_grid()\n",
    "\n",
    "# ## Save a screenshot!\n",
    "# #p.screenshot(\"example1-1.png\")\n",
    "# p.show()\n",
    "\n",
    "\n",
    "# pv.close_all()\n",
    "# gc.collect()\n",
    "\n"
   ]
  },
  {
   "cell_type": "markdown",
   "id": "a5eb5f77-9491-4d09-9ab7-2a08b2e108cc",
   "metadata": {},
   "source": [
    "### Scene 2\n",
    "This one opens in an interactive window!"
   ]
  },
  {
   "cell_type": "code",
   "execution_count": 12,
   "id": "d0fabba1-65a3-422f-b8c9-0edfc7a7754b",
   "metadata": {},
   "outputs": [],
   "source": [
    "# p = pv.Plotter(notebook=False,\n",
    "#                window_size=[1920, 1080], \n",
    "#                multi_samples=16)\n",
    "\n",
    "\n",
    "# # Add three isosurfaces from the model\n",
    "# grid.set_active_scalars(\"vortmag\")\n",
    "# p.add_volume(grid, scalars=\"vortmag\", clim=[-6, 10], cmap=\"diff\", opacity=\"sigmoid_6\")#, mappers=\"gpu\")\n",
    "\n",
    "# # Add the ground surface data\n",
    "# a = p.add_mesh(surface, scalars=\"thrhopert\", cmap=\"diff\", clim=[-8,8])#, mapper=\"gpu\")\n",
    "\n",
    "# # Note the custom opacity ramp\n",
    "# p.add_mesh(streams, clim=[-1e-3, 1e-3], opacity=ramp, cmap=\"CET_D1A\")#, mapper=\"gpu\")\n",
    "\n",
    "# p.camera_position = [(4000., -11000., 5000.),\n",
    "#                      (-5000, -1000., 1000.),\n",
    "#                      (0, 0, 1)]\n",
    "\n",
    "# p.show_grid()\n",
    "# p.show()\n",
    "# #p.screenshot(\"example2.png\")\n",
    "# pv.close_all()"
   ]
  },
  {
   "cell_type": "markdown",
   "id": "381f862f-9b6a-4166-9183-b21bec8620ea",
   "metadata": {},
   "source": [
    "### Dynamic Scene\n",
    "\n",
    "This is some example code to show how animations would work, animating only the parcels\n"
   ]
  },
  {
   "cell_type": "code",
   "execution_count": 19,
   "id": "3f4fa131-ab0d-47ca-ac36-870d06a68767",
   "metadata": {},
   "outputs": [
    {
     "name": "stderr",
     "output_type": "stream",
     "text": [
      "100%|████████████████████████████████████████████████████████████████████████████████████████████████████████████████████████████| 900/900 [02:30<00:00,  5.99it/s]\n"
     ]
    },
    {
     "data": {
      "text/plain": [
       "True"
      ]
     },
     "execution_count": 19,
     "metadata": {},
     "output_type": "execute_result"
    }
   ],
   "source": [
    "# initialize the point cloud\n",
    "update_pc(0)\n",
    "\n",
    "## Create our render engine\n",
    "p = pv.Plotter(notebook=False, off_screen=True, \n",
    "               window_size=[1920*2, 1080*2], multi_samples=16)\n",
    "\n",
    "## Open up an MP4 with a 60 FPS framerate\n",
    "p.open_movie(\"parcel_movie.mp4\", framerate=60)\n",
    "\n",
    "\n",
    "## Add bounds to make sure the camera doesnt get wacky\n",
    "p.add_mesh(pv.Box(bounds), opacity=0, style=\"wireframe\")\n",
    "\n",
    "## Add the point cloud in the scene\n",
    "p.add_mesh(pc, clim=[-1e-3, 1e-3], \n",
    "           opacity=1.0,\n",
    "           cmap=\"CET_D1A\")\n",
    "\n",
    "## Att the surface buoyancy\n",
    "p.add_mesh(surface, scalars=\"thrhopert\", cmap=\"diff\", clim=[-8,8])\n",
    "\n",
    "## Camera position\n",
    "p.camera_position = [(4000., -11000., 5000.),\n",
    "                     (-5000, -1000., 1000.),\n",
    "                     (0, 0, 1)]\n",
    "\n",
    "p.show(auto_close=False)\n",
    "\n",
    "## Run through each frame - since all of the parcels\n",
    "## are already read into memory at the start, this is\n",
    "## really fast. If you're opening a new file each time\n",
    "## step, it'll definitely slow down but isn't miserable\n",
    "p.write_frame()  ## write initial data\n",
    "for tstep in tqdm(np.arange(0, nt-1)):\n",
    "    update_pc(tstep)\n",
    "    ## Commented out the updating of the\n",
    "    ## surface slice because the data I \n",
    "    ## provided with the notebook only has\n",
    "    ## 1 time step in it\n",
    "    #update_sf(tstep)\n",
    "    p.write_frame()\n",
    "pv.close_all()\n"
   ]
  },
  {
   "cell_type": "code",
   "execution_count": null,
   "id": "367d2a52-d403-4ea5-aa3a-c9157e274e37",
   "metadata": {},
   "outputs": [],
   "source": []
  }
 ],
 "metadata": {
  "kernelspec": {
   "display_name": "Python 3 (ipykernel)",
   "language": "python",
   "name": "python3"
  },
  "language_info": {
   "codemirror_mode": {
    "name": "ipython",
    "version": 3
   },
   "file_extension": ".py",
   "mimetype": "text/x-python",
   "name": "python",
   "nbconvert_exporter": "python",
   "pygments_lexer": "ipython3",
   "version": "3.11.0"
  }
 },
 "nbformat": 4,
 "nbformat_minor": 5
}
