{
 "cells": [
  {
   "cell_type": "markdown",
   "id": "c679e306-3a06-4640-ac99-1c479d54d796",
   "metadata": {},
   "source": [
    "In this notebook I experiment with creating obj files from the heat flux data (a small toy subset array from the real data).  \n",
    "For now, each time point would have its obj file."
   ]
  },
  {
   "cell_type": "markdown",
   "id": "a9b4202c-d022-4084-a286-ba830d1ed276",
   "metadata": {
    "tags": []
   },
   "source": [
    "#### obj file format:\n",
    "```\n",
    "# List of geometric vertices, with (x, y, z, [w]) coordinates. (z is height)\n",
    "# w is optional and defaults to 1 - it's the weight required for rational curves and surfaces.\n",
    "# Non-rational curve - When a curve's control points all have the same weight.\n",
    "# Some applications support vertex colors, by putting red, green and blue values after x y and z (ranging 0-1), instead of w.\n",
    "v 0.123 0.234 0.345 1.0\n",
    "\n",
    "# Optional:\n",
    "# List of texture coordinates, in (u, [v, w]) coordinates, these will vary between 0 and 1. \n",
    "# v, w are optional and default to 0.\n",
    "vt 0.500 1 [0]\n",
    "\n",
    "# Optional:\n",
    "# List of vertex normals in (x,y,z) form; normals might not be unit vectors.\n",
    "# Many times these aren't used, because the 'f' face command will use the order the 'v' commands are given to determine the normal instead.\n",
    "vn 0.707 0.000 0.707\n",
    "\n",
    "# Optional\n",
    "# Parameter space vertices in (u, [v, w]) form; free form geometry statement (????)\n",
    "vp 0.310000 3.210000 2.100000\n",
    "\n",
    "# Polygonal face element:\n",
    "f 1 2 3                # v1, v2, v3 make a face\n",
    "f 3/1 4/2 5/3          # v3+vt1, v4+vt2 ... make a face\n",
    "f 6/4/1 3/5/3 7/6/5    # v6+vt4+vn1, ... make a face\n",
    "f 7//1 8//2 9//3       # v7+vn1, ... make a face\n",
    "\n",
    "# Reference materials: \n",
    "# The use material command lets you name a material to use. \n",
    "# All 'f' face commands that follow will use the same material, until another usemtl command is encountered.\n",
    "usemtl name\n",
    "\n",
    "# Obj files support higher-order surfaces using several different kinds of interpolation, such as Taylor and B-splines, although support for those features in third party file readers is far from universal.\n",
    "\n",
    "```\n",
    "\n",
    "Sources:  \n",
    "https://www.cs.cmu.edu/~mbz/personal/graphics/obj.html  \n",
    "https://en.wikipedia.org/wiki/Wavefront_.obj_file"
   ]
  },
  {
   "cell_type": "code",
   "execution_count": 1,
   "id": "00515092-1ba7-4bfa-85ac-a0cbb9c85e7a",
   "metadata": {},
   "outputs": [],
   "source": [
    "import numpy as np\n",
    "from datetime import date\n",
    "from os import path, makedirs"
   ]
  },
  {
   "cell_type": "markdown",
   "id": "0e72e200-d5d0-4e72-b080-b6191f36c750",
   "metadata": {},
   "source": [
    "#### Import original toy array"
   ]
  },
  {
   "cell_type": "code",
   "execution_count": 2,
   "id": "01c00e09-74d5-4d37-bf35-2ea13fb68581",
   "metadata": {},
   "outputs": [],
   "source": [
    "org_path = 'UFZ_RemoteSensing/sliced_heat_flux_array_as_toy.npy'"
   ]
  },
  {
   "cell_type": "code",
   "execution_count": 3,
   "id": "9d258945-b350-421c-b8d7-c28da075cbbf",
   "metadata": {},
   "outputs": [],
   "source": [
    "org_array = np.load(org_path)"
   ]
  },
  {
   "cell_type": "code",
   "execution_count": 4,
   "id": "bc7074f2-4973-46e1-8bf8-7e4c5bb82b79",
   "metadata": {},
   "outputs": [
    {
     "data": {
      "text/plain": [
       "(10, 601, 1233)"
      ]
     },
     "execution_count": 4,
     "metadata": {},
     "output_type": "execute_result"
    }
   ],
   "source": [
    "org_array.shape"
   ]
  },
  {
   "cell_type": "markdown",
   "id": "c7f8bcfc-d2b2-482e-8b32-a358c95ad337",
   "metadata": {},
   "source": [
    "Those dims are time, longitude, latitude"
   ]
  },
  {
   "cell_type": "code",
   "execution_count": 5,
   "id": "410d88fa-8e95-4942-8be3-78512a17ad45",
   "metadata": {},
   "outputs": [
    {
     "data": {
      "text/plain": [
       "-9999999.0"
      ]
     },
     "execution_count": 5,
     "metadata": {},
     "output_type": "execute_result"
    }
   ],
   "source": [
    "### setting the invalid value:\n",
    "invalid_val = np.min(org_array)\n",
    "invalid_val"
   ]
  },
  {
   "cell_type": "code",
   "execution_count": 6,
   "id": "cdbfd67a-189b-4081-a6d6-2a4f825554ae",
   "metadata": {},
   "outputs": [],
   "source": [
    "### Create otput dir:\n",
    "today = date.today().strftime(\"%y%m%d\")\n",
    "output_dir = f'{today}_toy_obj_files'\n",
    "\n",
    "makedirs(output_dir)#, exist_ok=True)"
   ]
  },
  {
   "cell_type": "markdown",
   "id": "bf39fc5c-047b-4e87-87e2-9254be26bdb3",
   "metadata": {},
   "source": [
    "### Creating an obj file\n",
    "For now just with `v` and `f` lines."
   ]
  },
  {
   "cell_type": "markdown",
   "id": "2ae8f7b4-0bed-4e88-9388-51fd519e1ea1",
   "metadata": {},
   "source": [
    "#### Creating vertices & faces:"
   ]
  },
  {
   "cell_type": "code",
   "execution_count": 40,
   "id": "dde6acc8-915b-4832-8405-f5b6de1f4911",
   "metadata": {},
   "outputs": [],
   "source": [
    "def get_usable_Vs(mat, mat_size):\n",
    "    # Init bool array - which vertices particiate in a face: \n",
    "    bool_mat = np.full(mat_size, False)\n",
    "    \n",
    "    for i in range(1,mat_size[0]):\n",
    "        for j in range(1,mat_size[1]-1):\n",
    "            \n",
    "            if (mat[i,j]!=invalid_val) and (mat[i-1,j]!=invalid_val):\n",
    "                ## each vertex can create two faces (if it and neighbors are valid)\n",
    "                ## first face participating vertices:\n",
    "                if mat[i-1,j-1]!=invalid_val:\n",
    "                    bool_mat[i,j], bool_mat[i-1,j], bool_mat[i-1,j-1] = True, True, True\n",
    "                # second face:\n",
    "                if mat[i,j+1]!=invalid_val:\n",
    "                    bool_mat[i,j], bool_mat[i-1,j], bool_mat[i,j+1] = True, True, True\n",
    "                \n",
    "    return bool_mat"
   ]
  },
  {
   "cell_type": "code",
   "execution_count": 46,
   "id": "6b5614ec-d714-475e-a555-ecff8d17fbc4",
   "metadata": {},
   "outputs": [],
   "source": [
    "# This function creates the vertices lines in the .obj file.\n",
    "# line format / example:\n",
    "# v x y z / v 5 6 25 \n",
    "\n",
    "def add_v_in_obj(i, j, val):\n",
    "    return f'v {i} {j} {val}'"
   ]
  },
  {
   "cell_type": "code",
   "execution_count": 47,
   "id": "4e978409-2a1d-4db0-b15f-7bde7f4aebd2",
   "metadata": {},
   "outputs": [],
   "source": [
    "## For now, for simplicity, vertices missing a neighbor dont create faces\n",
    "# (due to empty value -9999999 or array boarders)\n",
    "\n",
    "def add_f_to_obj(v_idx, v_idx_neigh1, v_idx_neigh2):\n",
    "    return f'f {v_idx} {v_idx_neigh1} {v_idx_neigh2}'\n",
    "    "
   ]
  },
  {
   "cell_type": "code",
   "execution_count": 52,
   "id": "8b4f8cfe-a36e-486f-86ad-4e7589855bd4",
   "metadata": {},
   "outputs": [],
   "source": [
    "## multi_index order (e.g. in arr.shape=(2,3)):\n",
    "## v0=<(0,0)> v1=<(0,1)> v2=<(0,2)> v3=<(1,0)> v4=<(1,1)> v5=<(1, 2)>\n",
    "## But this is only when all vertices are used! \n",
    "## Need a more complex approach to track vertices idxs.\n",
    "\n",
    "mat_size = org_array.shape[1:]\n",
    "\n",
    "# Time iter:\n",
    "for i_mat,mat in enumerate(org_array):\n",
    "    \n",
    "    ## Commented as currently makes more sense to do it with two loops\n",
    "    ## Creating an iterator:\n",
    "    # it = np.nditer(mat, flags=['multi_index'])\n",
    "    # for x in it:\n",
    "    #     if x>-999999:\n",
    "    #         make_v_line(it.multi_index, x)\n",
    "    \n",
    "    \n",
    "    # Check which vertices will actually be used in faces:\n",
    "    is_v_mat = get_usable_Vs(mat, mat_size)\n",
    "    \n",
    "    v_idx = 0\n",
    "    \n",
    "    ## make lists of - vertices lines and faces lines (in obj format)\n",
    "    Vs_obj = []\n",
    "    Fs_obj = []\n",
    "    \n",
    "    v_idxs_curr_row = []\n",
    "    \n",
    "    for i in range(mat_size[0]):\n",
    "        for j in range(mat_size[1]):\n",
    "            \n",
    "            ## Make vertex:\n",
    "            if is_v_mat[i,j]:\n",
    "                Vs_obj.append(add_v_in_obj(i, j, mat[i,j]))\n",
    "                \n",
    "                ## Make face: \n",
    "                # First row doesn't have neighbors to create faces with.\n",
    "                if (i!=0) and (j!=0) and (j!=mat_size[1]-1):\n",
    "                    ## For each vertex (up to) two faces are created:\n",
    "                    # (V i j , V i-1 j-1, V i-1 j) & (V i j , V i-1 j, V i j+1)\n",
    "                    \n",
    "                    # excluding face if neighbor is invalid.\n",
    "                    \n",
    "                    ## First face: \n",
    "                    if is_v_mat[i-1,j] and is_v_mat[i-1,j-1]:\n",
    "                        Fs_obj.append(add_f_to_obj(v_idx, v_idxs_prev_row[j], v_idxs_prev_row[j-1]))\n",
    "                    # Second face:\n",
    "                    if is_v_mat[i-1,j] and is_v_mat[i,j+1]:\n",
    "                        Fs_obj.append(add_f_to_obj(v_idx, v_idxs_prev_row[j], v_idx+1))\n",
    "                \n",
    "                v_idxs_curr_row.append(v_idx)\n",
    "                v_idx += 1\n",
    "                \n",
    "            else:\n",
    "                v_idxs_curr_row.append(False)\n",
    "\n",
    "        v_idxs_prev_row, v_idxs_curr_row = v_idxs_curr_row, []\n",
    "                \n",
    "    ## create obj file for current time point:\n",
    "    with open(path.join(output_dir, f't{i_mat}.obj'), 'w') as f:\n",
    "        f.write('\\n'.join(Vs_obj))\n",
    "    with open(path.join(output_dir, f't{i_mat}.obj'), 'a') as f:\n",
    "        f.write('\\n'.join(Fs_obj))\n",
    "        \n"
   ]
  },
  {
   "cell_type": "code",
   "execution_count": 53,
   "id": "edd97d17-0338-4a73-b986-a84e00cedcc2",
   "metadata": {},
   "outputs": [],
   "source": [
    "## Test if i get less vertices after the change in code to use only needed vertices:\n",
    "\n",
    "with open(path.join(output_dir, 't0.obj'), 'r') as f:\n",
    "    lines = f.read().split('\\n')\n",
    "    \n",
    "with open(path.join('221214_toy_obj_files_pre_neighbor_check','t0.obj')) as f:\n",
    "    lines1 = f.read().split('\\n')\n",
    "    \n",
    "    "
   ]
  },
  {
   "cell_type": "code",
   "execution_count": 54,
   "id": "c484c4c8-3435-41b4-9d7e-c2568f2cc92d",
   "metadata": {},
   "outputs": [
    {
     "data": {
      "text/plain": [
       "(1334335, 1333583)"
      ]
     },
     "execution_count": 54,
     "metadata": {},
     "output_type": "execute_result"
    }
   ],
   "source": [
    "len(lines), len(lines1)\n",
    "### Oh, its because im using the last line here too.."
   ]
  },
  {
   "cell_type": "code",
   "execution_count": 55,
   "id": "da207749-f00e-451b-9d69-97aae091601f",
   "metadata": {},
   "outputs": [],
   "source": [
    "Vs_line = [l for l in lines if 'v' in l]\n",
    "Vs_line1 = [l for l in lines1 if 'v' in l]"
   ]
  },
  {
   "cell_type": "code",
   "execution_count": 56,
   "id": "ff4362ab-9a49-483a-bdce-f40bf169a630",
   "metadata": {},
   "outputs": [
    {
     "data": {
      "text/plain": [
       "(450621, 450673)"
      ]
     },
     "execution_count": 56,
     "metadata": {},
     "output_type": "execute_result"
    }
   ],
   "source": [
    "len(Vs_line), len(Vs_line1)\n",
    "## Ok, so i do have less vertices, but more faces."
   ]
  },
  {
   "cell_type": "code",
   "execution_count": null,
   "id": "1dc0c756-749c-4e1e-b913-5dc815a76264",
   "metadata": {},
   "outputs": [],
   "source": []
  }
 ],
 "metadata": {
  "kernelspec": {
   "display_name": "Python 3 (ipykernel)",
   "language": "python",
   "name": "python3"
  },
  "language_info": {
   "codemirror_mode": {
    "name": "ipython",
    "version": 3
   },
   "file_extension": ".py",
   "mimetype": "text/x-python",
   "name": "python",
   "nbconvert_exporter": "python",
   "pygments_lexer": "ipython3",
   "version": "3.10.8"
  }
 },
 "nbformat": 4,
 "nbformat_minor": 5
}
